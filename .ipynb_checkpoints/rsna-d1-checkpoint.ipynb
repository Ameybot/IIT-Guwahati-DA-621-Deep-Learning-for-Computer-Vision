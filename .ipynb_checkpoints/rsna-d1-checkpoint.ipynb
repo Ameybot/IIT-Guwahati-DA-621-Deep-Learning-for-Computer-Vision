{
 "cells": [
  {
   "cell_type": "code",
   "execution_count": null,
   "metadata": {
    "_cell_guid": "b1076dfc-b9ad-4769-8c92-a6c4dae69d19",
    "_uuid": "8f2839f25d086af736a60e9eeb907d3b93b6e0e5"
   },
   "outputs": [],
   "source": [
    "# This Python 3 environment comes with many helpful analytics libraries installed\n",
    "# It is defined by the kaggle/python Docker image: https://github.com/kaggle/docker-python\n",
    "# For example, here's several helpful packages to load\n",
    "\n",
    "import numpy as np # linear algebra\n",
    "import pandas as pd # data processing, CSV file I/O (e.g. pd.read_csv)\n",
    "\n",
    "# Input data files are available in the read-only \"../input/\" directory\n",
    "# For example, running this (by clicking run or pressing Shift+Enter) will list all files under the input directory\n",
    "\n",
    "import os\n",
    "# for dirname, _, filenames in os.walk('/kaggle/input'):\n",
    "#     for filename in filenames:\n",
    "#         print(os.path.join(dirname, filename))\n",
    "\n",
    "# You can write up to 20GB to the current directory (/kaggle/working/) that gets preserved as output when you create a version using \"Save & Run All\" \n",
    "# You can also write temporary files to /kaggle/temp/, but they won't be saved outside of the current session"
   ]
  },
  {
   "cell_type": "code",
   "execution_count": null,
   "metadata": {},
   "outputs": [],
   "source": [
    "!pip install pydicom\n",
    "!pip install python-gdcm\n",
    "!pip install pylibjpeg\n",
    "!pip install ipyvolume\n",
    "!pip install ipywidgets\n",
    "!jupyter nbextension enable --py --sys-prefix widgetsnbextension\n",
    "\n",
    "import matplotlib.pyplot as plt\n",
    "import pydicom\n",
    "from tqdm.notebook import tqdm\n",
    "import ipyvolume as ipv"
   ]
  },
  {
   "cell_type": "code",
   "execution_count": null,
   "metadata": {},
   "outputs": [],
   "source": [
    "os.chdir('/kaggle/input/rsna-2022-cervical-spine-fracture-detection')"
   ]
  },
  {
   "cell_type": "code",
   "execution_count": null,
   "metadata": {},
   "outputs": [],
   "source": [
    "df = pd.read_csv('train.csv')"
   ]
  },
  {
   "cell_type": "code",
   "execution_count": null,
   "metadata": {},
   "outputs": [],
   "source": [
    "df.head()"
   ]
  },
  {
   "cell_type": "code",
   "execution_count": null,
   "metadata": {},
   "outputs": [],
   "source": [
    "def viz(img):\n",
    "    pixels = []\n",
    "    folder = os.listdir(os.path.join('train_images',img))\n",
    "    folder.sort(key=lambda x: int(x.split('.')[0]))\n",
    "    for i in folder:\n",
    "#         print(i)\n",
    "        p = os.path.join(os.path.join('train_images',img),i)\n",
    "#         print(p)\n",
    "        ds = pydicom.dcmread(p)\n",
    "#         print(ds.pixel_array)\n",
    "        pixels.append(ds.pixel_array)\n",
    "#         plt.imshow(ds.pixel_array) \n",
    "#         plt.show()\n",
    "    return pixels"
   ]
  },
  {
   "cell_type": "code",
   "execution_count": null,
   "metadata": {},
   "outputs": [],
   "source": [
    "pix = viz('1.2.826.0.1.3680043.6200')"
   ]
  },
  {
   "cell_type": "code",
   "execution_count": null,
   "metadata": {},
   "outputs": [],
   "source": [
    "fig = ipv.figure()\n",
    "scatter = ipv.examples.gaussian(show=False)\n"
   ]
  },
  {
   "cell_type": "code",
   "execution_count": null,
   "metadata": {},
   "outputs": [],
   "source": [
    "ipv.pylab.volshow(np.array(pix))"
   ]
  },
  {
   "cell_type": "code",
   "execution_count": null,
   "metadata": {},
   "outputs": [],
   "source": [
    "np.random.seed(19680801)\n",
    "\n",
    "\n",
    "class IndexTracker:\n",
    "    def __init__(self, ax, X):\n",
    "        self.ax = ax\n",
    "        ax.set_title('use scroll wheel to navigate images')\n",
    "\n",
    "        self.X = X\n",
    "        rows, cols, self.slices = X.shape\n",
    "        self.ind = self.slices//2\n",
    "\n",
    "        self.im = ax.imshow(self.X[:, :, self.ind])\n",
    "        self.update()\n",
    "\n",
    "    def on_scroll(self, event):\n",
    "        print(\"%s %s\" % (event.button, event.step))\n",
    "        if event.button == 'up':\n",
    "            self.ind = (self.ind + 1) % self.slices\n",
    "        else:\n",
    "            self.ind = (self.ind - 1) % self.slices\n",
    "        self.update()\n",
    "\n",
    "    def update(self):\n",
    "        self.im.set_data(self.X[:, :, self.ind])\n",
    "        self.ax.set_ylabel('slice %s' % self.ind)\n",
    "        self.im.axes.figure.canvas.draw()\n",
    "\n",
    "\n",
    "fig, ax = plt.subplots(1, 1)\n",
    "\n",
    "X = np.random.rand(20, 20, 40)\n",
    "\n",
    "tracker = IndexTracker(ax, np.array(pix))\n",
    "\n",
    "\n",
    "fig.canvas.mpl_connect('scroll_event', tracker.on_scroll)\n",
    "plt.show()"
   ]
  },
  {
   "cell_type": "code",
   "execution_count": null,
   "metadata": {},
   "outputs": [],
   "source": [
    "class ImageData(Dataset):\n",
    "    \n",
    "    def __init__(self,df,transform=None):\n",
    "        self.df = df\n",
    "        self.transform = transform\n",
    "        \n",
    "    def __len__(self):\n",
    "        return len(self.df)\n",
    "    \n",
    "    def __getitem__(self,index):\n",
    "        uid = self.df.iloc[index,0]\n",
    "        folder = os.listdir(os.path.join('train_images',uid))\n",
    "        folder.sort(key=lambda x: int(x.split('.')[0]))\n",
    "        for slices in folder:\n",
    "            slice_path = os.path.join(os.path.join('train_images',uid),slices)\n",
    "            ds = pydicom.dcmread(slice_path)\n",
    "            vol.append(ds.pixel_array)\n",
    "        image = np.array(vol)    \n",
    "        labels = torch.tensor(self.df.iloc[index,1],dtype=torch.long)\n",
    "        if self.transform is not None:\n",
    "            image = self.transform(image)\n",
    "        return image, labels\n",
    "\n",
    "transform = transforms.Compose([transforms.Resize(size = (224,224)),transforms.ToTensor(), transforms.Normalize(mean = [0.485, 0.456, 0.406],std = [0.229, 0.224, 0.225])])#"
   ]
  },
  {
   "cell_type": "code",
   "execution_count": null,
   "metadata": {},
   "outputs": [],
   "source": [
    "train_generator = DataLoader(ImageData(df_train,transform=transform),batch_size = 100,shuffle = True)\n",
    "val_generator = DataLoader(ImageData(df_val,transform=transform),batch_size = 100,shuffle = True)\n",
    "test_generator = DataLoader(ImageData(df_test,transform=transform),batch_size = 100,shuffle = True)"
   ]
  },
  {
   "cell_type": "code",
   "execution_count": null,
   "metadata": {},
   "outputs": [],
   "source": [
    "def viz(img):\n",
    "    pixels = []\n",
    "    folder = os.listdir(os.path.join('train_images',img))\n",
    "    folder.sort(key=lambda x: int(x.split('.')[0]))\n",
    "    for i in folder:\n",
    "#         print(i)\n",
    "        p = os.path.join(os.path.join('train_images',img),i)\n",
    "#         print(p)\n",
    "        ds = pydicom.dcmread(p)\n",
    "#         print(ds.pixel_array)\n",
    "        pixels.append(ds.pixel_array)\n",
    "#         plt.imshow(ds.pixel_array) \n",
    "#         plt.show()\n",
    "    return pixels"
   ]
  }
 ],
 "metadata": {
  "kernelspec": {
   "display_name": "Python 3",
   "language": "python",
   "name": "python3"
  },
  "language_info": {
   "codemirror_mode": {
    "name": "ipython",
    "version": 3
   },
   "file_extension": ".py",
   "mimetype": "text/x-python",
   "name": "python",
   "nbconvert_exporter": "python",
   "pygments_lexer": "ipython3",
   "version": "3.8.8"
  }
 },
 "nbformat": 4,
 "nbformat_minor": 4
}
